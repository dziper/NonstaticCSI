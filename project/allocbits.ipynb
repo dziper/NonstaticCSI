{
 "cells": [
  {
   "cell_type": "code",
   "id": "initial_id",
   "metadata": {
    "collapsed": true,
    "ExecuteTime": {
     "end_time": "2024-12-12T23:58:10.181597Z",
     "start_time": "2024-12-12T23:58:10.176746Z"
    }
   },
   "source": [
    "import os\n",
    "import numpy as np\n",
    "with open(\"/Users/dziper/UCSD/F24/ECE 257A/NonstaticCSI/results/trainsnr10.0_testsnr10.0_windowsize25/allocated_bits_lstm_pca200_Btot_32.npy\", \"rb\") as f:\n",
    "    thing = np.load(f)"
   ],
   "outputs": [],
   "execution_count": 2
  },
  {
   "metadata": {
    "ExecuteTime": {
     "end_time": "2024-12-12T23:58:12.737467Z",
     "start_time": "2024-12-12T23:58:12.732098Z"
    }
   },
   "cell_type": "code",
   "source": "thing\n",
   "id": "5805022ead182cd5",
   "outputs": [
    {
     "data": {
      "text/plain": [
       "array([4, 4, 3, 3, 3, 3, 3, 3, 2, 2, 2], dtype=int16)"
      ]
     },
     "execution_count": 3,
     "metadata": {},
     "output_type": "execute_result"
    }
   ],
   "execution_count": 3
  },
  {
   "metadata": {
    "ExecuteTime": {
     "end_time": "2024-12-12T23:58:24.794553Z",
     "start_time": "2024-12-12T23:58:24.790099Z"
    }
   },
   "cell_type": "code",
   "source": "np.sum(thing)",
   "id": "d60aaa0645821d67",
   "outputs": [
    {
     "data": {
      "text/plain": [
       "np.int64(32)"
      ]
     },
     "execution_count": 4,
     "metadata": {},
     "output_type": "execute_result"
    }
   ],
   "execution_count": 4
  },
  {
   "metadata": {},
   "cell_type": "code",
   "outputs": [],
   "execution_count": null,
   "source": "",
   "id": "c69c1076837954a1"
  }
 ],
 "metadata": {
  "kernelspec": {
   "display_name": "Python 3",
   "language": "python",
   "name": "python3"
  },
  "language_info": {
   "codemirror_mode": {
    "name": "ipython",
    "version": 2
   },
   "file_extension": ".py",
   "mimetype": "text/x-python",
   "name": "python",
   "nbconvert_exporter": "python",
   "pygments_lexer": "ipython2",
   "version": "2.7.6"
  }
 },
 "nbformat": 4,
 "nbformat_minor": 5
}
