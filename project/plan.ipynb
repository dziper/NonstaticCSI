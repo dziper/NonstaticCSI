{
 "cells": [
  {
   "metadata": {},
   "cell_type": "markdown",
   "source": "## Data Setup\n",
   "id": "85b127cfe26ada76"
  },
  {
   "metadata": {
    "ExecuteTime": {
     "end_time": "2024-11-30T04:51:17.679355Z",
     "start_time": "2024-11-30T04:51:10.367857Z"
    }
   },
   "cell_type": "code",
   "source": [
    "import dataset\n",
    "import utils\n",
    "import reference_impl as ref\n",
    "import model\n",
    "import simulator as sim\n",
    "\n",
    "# Use this cfg variable whenever we need to access some constant\n",
    "cfg = utils.Config(\n",
    "    num_rx_antennas=1,\n",
    "    num_tx_antennas=64,\n",
    "    num_subcarriers=160,\n",
    "    train_test_split=0.8,\n",
    "    data_root=\"../data/dataset1\"\n",
    ")\n",
    "\n",
    "train_set, test_set = dataset.load_data(cfg)"
   ],
   "id": "9f175868848da11d",
   "outputs": [],
   "execution_count": 1
  },
  {
   "metadata": {},
   "cell_type": "markdown",
   "source": "## Offline Training\n",
   "id": "fc2d0c7e9330205d"
  },
  {
   "metadata": {
    "ExecuteTime": {
     "end_time": "2024-11-30T04:51:26.260399Z",
     "start_time": "2024-11-30T04:51:19.725737Z"
    }
   },
   "cell_type": "code",
   "source": [
    "import matlab.engine\n",
    "matlab = matlab.engine.start_matlab()"
   ],
   "id": "59de81bb8c0a9eb5",
   "outputs": [],
   "execution_count": 2
  },
  {
   "metadata": {
    "ExecuteTime": {
     "end_time": "2024-11-30T04:54:33.270969Z",
     "start_time": "2024-11-30T04:54:06.079303Z"
    }
   },
   "cell_type": "code",
   "source": [
    "pca = ref.ReferencePCA(cfg, matlab)\n",
    "model.train_or_load(pca, cfg.pca_path, cfg.retrain_all, train_set.csi_samples)  # pca.fit() includes reduce overhead"
   ],
   "id": "c0f7b5bc263199ef",
   "outputs": [],
   "execution_count": null
  },
  {
   "metadata": {
    "ExecuteTime": {
     "end_time": "2024-11-30T05:07:36.756028Z",
     "start_time": "2024-11-30T05:07:32.155743Z"
    }
   },
   "cell_type": "code",
   "source": [
    "zdl_train = pca.process(train_set.csi_samples)                # N * zdl_len\n",
    "\n",
    "windows_shape = train_set.csi_windows.shape                   # N * window_size * na * nc\n",
    "zdl_train_windows = train_set.csi_windows.reshape(            # (N * window_size) * na * nc\n",
    "    -1, windows_shape[2], windows_shape[3]\n",
    ")\n",
    "zdl_train_windows = pca.process(zdl_train_windows)\n",
    "zdl_train_windows = zdl_train_windows.reshape(\n",
    "    windows_shape[0], windows_shape[1], zdl_train.shape[1]\n",
    ")  # N * window_size * zdl_len"
   ],
   "id": "2f0dccaae7b4d40",
   "outputs": [],
   "execution_count": 13
  },
  {
   "metadata": {
    "ExecuteTime": {
     "end_time": "2024-11-30T05:11:12.221094Z",
     "start_time": "2024-11-30T05:11:12.211025Z"
    }
   },
   "cell_type": "code",
   "source": [
    "## Train Predictor\n",
    "predictor = ref.NullPredictor()                               # With NullPredictor, prediction_error is just zDL! This lets us test the ref impl\n",
    "model.train_or_load(predictor, cfg.predictor_path, cfg.retrain_all, zdl_train)\n",
    "predicted_zdl = predictor.process(zdl_train)\n",
    "\n",
    "prediction_error = zdl_train - predicted_zdl"
   ],
   "id": "bd8ff32f6cd1dc94",
   "outputs": [],
   "execution_count": 14
  },
  {
   "metadata": {},
   "cell_type": "code",
   "outputs": [
    {
     "ename": "TypeError",
     "evalue": "unsupported operand type(s) for -: 'NoneType' and 'int'",
     "output_type": "error",
     "traceback": [
      "\u001B[0;31m---------------------------------------------------------------------------\u001B[0m",
      "\u001B[0;31mTypeError\u001B[0m                                 Traceback (most recent call last)",
      "Cell \u001B[0;32mIn[3], line 11\u001B[0m\n\u001B[1;32m      8\u001B[0m model\u001B[38;5;241m.\u001B[39mtrain_or_load(predictor, cfg\u001B[38;5;241m.\u001B[39mpredictor_path, cfg\u001B[38;5;241m.\u001B[39mretrain_all, zdl_train)  \u001B[38;5;66;03m# TODO maybe want to also pass in location etc\u001B[39;00m\n\u001B[1;32m      9\u001B[0m predicted_zdl \u001B[38;5;241m=\u001B[39m predictor\u001B[38;5;241m.\u001B[39mprocess(zdl_train)\n\u001B[0;32m---> 11\u001B[0m prediction_error \u001B[38;5;241m=\u001B[39m \u001B[43mzdl_train\u001B[49m\u001B[43m \u001B[49m\u001B[38;5;241;43m-\u001B[39;49m\u001B[43m \u001B[49m\u001B[43mpredicted_zdl\u001B[49m\n\u001B[1;32m     13\u001B[0m \u001B[38;5;66;03m## Error Compression\u001B[39;00m\n\u001B[1;32m     14\u001B[0m error_compressor \u001B[38;5;241m=\u001B[39m ref\u001B[38;5;241m.\u001B[39mReferenceKmeans()\n",
      "\u001B[0;31mTypeError\u001B[0m: unsupported operand type(s) for -: 'NoneType' and 'int'"
     ]
    }
   ],
   "execution_count": 3,
   "source": [
    "## Error Compression\n",
    "error_compressor = ref.ReferenceKmeans()\n",
    "model.train_or_load(error_compressor, cfg.kmeans_path, cfg.retrain_all, prediction_error)\n",
    "\n",
    "# DL and UL each get trained pca, predictor, and error_compressor"
   ],
   "id": "427dd453549b54d4"
  },
  {
   "metadata": {},
   "cell_type": "markdown",
   "source": "## Testing",
   "id": "745a86e00640922c"
  },
  {
   "metadata": {},
   "cell_type": "code",
   "outputs": [],
   "execution_count": null,
   "source": [
    "## Downlink Side\n",
    "zdl_test = pca.process(test_set.csi_samples)\n",
    "# Bit allocation?\n",
    "predicted_zdl_test = predictor.process(zdl_test)\n",
    "prediction_error_test = zdl_test - predicted_zdl\n",
    "compressed_error_test = error_compressor.process(predicted_zdl_test)\n",
    "\n",
    "# CHANNEL: Send compressed_error to UL\n",
    "\n",
    "## UL Side\n",
    "ul_predicted_error = error_compressor.decode(compressed_error_test)\n",
    "ul_predicted_zdl = predictor.process(zdl_test)  \n",
    "# TODO ? Shouldn't be test_set Might need to do this iteratively like loop over each sample and load the History \n",
    "ul_reconstructed_zdl = ul_predicted_error + ul_predicted_zdl\n",
    "ul_predicted_csi = pca.decode(ul_reconstructed_zdl)\n",
    "\n",
    "## TODO Compute Accuracy \n",
    "# test_set.csi_samples == ul_reconstructed_zdl"
   ],
   "id": "33d67e8c6013daae"
  },
  {
   "metadata": {},
   "cell_type": "markdown",
   "source": "## Visualize?\n",
   "id": "6f68095745a61347"
  },
  {
   "metadata": {},
   "cell_type": "markdown",
   "source": [
    "## Simulation\n",
    "- \"End to End\" Simulation\n",
    "- Show simulation of entire new \"test\" path made up of portions of paths that were trained on"
   ],
   "id": "d222025f94384969"
  },
  {
   "metadata": {},
   "cell_type": "code",
   "outputs": [],
   "execution_count": null,
   "source": [
    "# Load in pretrained components\n",
    "dl_sim: sim.DLSimulator = sim.DLSimple(cfg, pca, predictor, error_compressor)\n",
    "ul_sim: sim.ULSimulator = sim.ULSimple(cfg, pca, predictor, error_compressor)\n",
    "\n",
    "evaluator = sim.Evaluator()\n",
    "\n",
    "for sample in test_set:\n",
    "    quantized_error = dl_sim.simulate(sample)\n",
    "    # Send quantized_error over CHANNEL\n",
    "    predicted_csi = ul_sim.simulate(quantized_error)\n",
    "    evaluator.evaluate(sample, predicted_csi)\n",
    "    \n",
    "evaluator.report()\n",
    "evaluator.visualize()"
   ],
   "id": "360e2e1ae780125b"
  },
  {
   "metadata": {
    "ExecuteTime": {
     "end_time": "2024-11-30T04:53:36.152804Z",
     "start_time": "2024-11-30T04:53:36.138909Z"
    }
   },
   "cell_type": "code",
   "source": [
    "\"\"\"\n",
    "Run this cell to reload all modules\n",
    "\n",
    "When making changes to classes in Python files, either restarting the kernel or reloading modules is necessary\n",
    "In order to support reloading modules, use\n",
    "    import mymodule\n",
    "or\n",
    "    import mymodule as m\n",
    "syntax for our own modules, instead of 'from mymodule import thing'\n",
    "\"\"\"\n",
    "\n",
    "import importlib\n",
    "importlib.reload(utils)\n",
    "importlib.reload(dataset)\n",
    "importlib.reload(model)\n",
    "importlib.reload(sim)\n",
    "importlib.reload(ref)"
   ],
   "id": "cafc8b95c857b53b",
   "outputs": [
    {
     "data": {
      "text/plain": [
       "<module 'reference_impl' from '/Users/dziper/UCSD/F24/ECE 257A/NonstaticCSI/project/reference_impl.py'>"
      ]
     },
     "execution_count": 7,
     "metadata": {},
     "output_type": "execute_result"
    }
   ],
   "execution_count": 7
  },
  {
   "metadata": {},
   "cell_type": "code",
   "outputs": [],
   "execution_count": null,
   "source": "",
   "id": "56b2c4e44b154f5e"
  }
 ],
 "metadata": {
  "kernelspec": {
   "display_name": "Python 3",
   "language": "python",
   "name": "python3"
  },
  "language_info": {
   "codemirror_mode": {
    "name": "ipython",
    "version": 2
   },
   "file_extension": ".py",
   "mimetype": "text/x-python",
   "name": "python",
   "nbconvert_exporter": "python",
   "pygments_lexer": "ipython2",
   "version": "2.7.6"
  }
 },
 "nbformat": 4,
 "nbformat_minor": 5
}
