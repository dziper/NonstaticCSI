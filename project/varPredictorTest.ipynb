{
 "cells": [
  {
   "cell_type": "code",
   "id": "a43f57c6e15542f",
   "metadata": {
    "collapsed": true,
    "ExecuteTime": {
     "end_time": "2024-12-03T23:08:58.624217Z",
     "start_time": "2024-12-03T23:08:57.674176Z"
    }
   },
   "source": [
    "import dataset\n",
    "import utils\n",
    "import reference_impl as ref\n",
    "import predictors\n",
    "import model\n",
    "\n",
    "# Use this cfg variable whenever we need to access some constant\n",
    "cfg = utils.Config(\n",
    "    num_rx_antennas=1,\n",
    "    num_tx_antennas=32,\n",
    "    num_subcarriers=80,\n",
    "    train_test_split=0.8,\n",
    "    data_root=\"../data/dataset1\",\n",
    "    reduce_pca_overhead=False\n",
    "    # duplicate_data=1,\n",
    "    # data_snr=-1\n",
    ")\n",
    "\n",
    "train_set = dataset.dataset_from_path(\"../data/dataset1/1Lane_2014U_1Rx_32Tx_1T_80K_2620000000.0fc.pickle\", cfg)"
   ],
   "outputs": [],
   "execution_count": 1
  },
  {
   "metadata": {
    "ExecuteTime": {
     "end_time": "2024-12-03T23:09:08.623290Z",
     "start_time": "2024-12-03T23:08:59.761342Z"
    }
   },
   "cell_type": "code",
   "source": [
    "## Offline Training\n",
    "import matlab.engine\n",
    "\n",
    "matlab = matlab.engine.start_matlab()\n",
    "pca = ref.ReferencePCA(cfg, matlab)\n",
    "model.train_or_load(pca, cfg.pca_path, cfg.retrain_all, train_set.csi_samples)  # pca.fit() includes reduce overhead\n",
    "zdl_train = pca.process(train_set.csi_samples)  # N * zdl_len"
   ],
   "id": "936a4378460b5c20",
   "outputs": [],
   "execution_count": 2
  },
  {
   "metadata": {
    "ExecuteTime": {
     "end_time": "2024-12-03T23:09:31.895891Z",
     "start_time": "2024-12-03T23:09:11.584184Z"
    }
   },
   "cell_type": "code",
   "source": [
    "## Train Predictor\n",
    "predictor = predictors.VARPredictor(cfg)\n",
    "model.train_or_load(predictor, cfg.predictor_path, cfg.retrain_all, zdl_train)"
   ],
   "id": "485247cd8657c570",
   "outputs": [],
   "execution_count": 3
  },
  {
   "metadata": {
    "ExecuteTime": {
     "end_time": "2024-12-03T23:10:00.215062Z",
     "start_time": "2024-12-03T23:09:59.994727Z"
    }
   },
   "cell_type": "code",
   "source": [
    "predicted_zdl = predictor.process(zdl_train)\n",
    "prediction_error = zdl_train - predicted_zdl"
   ],
   "id": "4ab83d7330fc0454",
   "outputs": [
    {
     "ename": "ValueError",
     "evalue": "operands could not be broadcast together with shapes (2009,2008) (1,2009) ",
     "output_type": "error",
     "traceback": [
      "\u001B[0;31m---------------------------------------------------------------------------\u001B[0m",
      "\u001B[0;31mValueError\u001B[0m                                Traceback (most recent call last)",
      "Cell \u001B[0;32mIn[4], line 2\u001B[0m\n\u001B[1;32m      1\u001B[0m predicted_zdl \u001B[38;5;241m=\u001B[39m predictor\u001B[38;5;241m.\u001B[39mprocess(zdl_train)\n\u001B[0;32m----> 2\u001B[0m prediction_error \u001B[38;5;241m=\u001B[39m \u001B[43mzdl_train\u001B[49m\u001B[43m \u001B[49m\u001B[38;5;241;43m-\u001B[39;49m\u001B[43m \u001B[49m\u001B[43mpredicted_zdl\u001B[49m\n",
      "\u001B[0;31mValueError\u001B[0m: operands could not be broadcast together with shapes (2009,2008) (1,2009) "
     ]
    }
   ],
   "execution_count": 4
  },
  {
   "metadata": {},
   "cell_type": "code",
   "outputs": [],
   "execution_count": null,
   "source": [
    "## Error Compression\n",
    "error_compressor = ref.ReferenceKmeans(cfg, matlab)\n",
    "model.train_or_load(error_compressor, cfg.kmeans_path, cfg.retrain_all, prediction_error)\n",
    "\n",
    "# DL and UL each get trained pca, predictor, and error_compressor"
   ],
   "id": "initial_id"
  }
 ],
 "metadata": {
  "kernelspec": {
   "display_name": "Python 3",
   "language": "python",
   "name": "python3"
  },
  "language_info": {
   "codemirror_mode": {
    "name": "ipython",
    "version": 2
   },
   "file_extension": ".py",
   "mimetype": "text/x-python",
   "name": "python",
   "nbconvert_exporter": "python",
   "pygments_lexer": "ipython2",
   "version": "2.7.6"
  }
 },
 "nbformat": 4,
 "nbformat_minor": 5
}
